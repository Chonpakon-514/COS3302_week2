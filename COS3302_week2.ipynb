{
  "nbformat": 4,
  "nbformat_minor": 0,
  "metadata": {
    "colab": {
      "name": "COS3302_week2.ipynb",
      "provenance": [],
      "toc_visible": true,
      "collapsed_sections": [],
      "authorship_tag": "ABX9TyMe0BjreyiuisXa0Z9sSMYA",
      "include_colab_link": true
    },
    "kernelspec": {
      "name": "python3",
      "display_name": "Python 3"
    },
    "language_info": {
      "name": "python"
    }
  },
  "cells": [
    {
      "cell_type": "markdown",
      "metadata": {
        "id": "view-in-github",
        "colab_type": "text"
      },
      "source": [
        "<a href=\"https://colab.research.google.com/github/Chonpakon-514/COS3302_week2/blob/main/COS3302_week2.ipynb\" target=\"_parent\"><img src=\"https://colab.research.google.com/assets/colab-badge.svg\" alt=\"Open In Colab\"/></a>"
      ]
    },
    {
      "cell_type": "markdown",
      "source": [
        "#Intro to python"
      ],
      "metadata": {
        "id": "XKPrxBkQ9zk0"
      }
    },
    {
      "cell_type": "markdown",
      "source": [
        "## Hello world"
      ],
      "metadata": {
        "id": "rn-sYth4RrBY"
      }
    },
    {
      "cell_type": "code",
      "source": [
        "# Never mind this statement, for compatibility reasons\n",
        "from __future__ import absolute_import, division, print_function, unicode_literals\n",
        "\n",
        "print(\"Hello World\")"
      ],
      "metadata": {
        "colab": {
          "base_uri": "https://localhost:8080/"
        },
        "id": "Es4m5ZqYSSZN",
        "outputId": "44f9fa38-4395-41dd-f8a6-27f502d60e26"
      },
      "execution_count": null,
      "outputs": [
        {
          "output_type": "stream",
          "name": "stdout",
          "text": [
            "Hello World\n"
          ]
        }
      ]
    },
    {
      "cell_type": "markdown",
      "source": [
        "## Function, Conditionals, and Iteration"
      ],
      "metadata": {
        "id": "l94ZWq-HUTKa"
      }
    },
    {
      "cell_type": "markdown",
      "source": [
        "### Function and Conditionals"
      ],
      "metadata": {
        "id": "2hhh_MCYU1h0"
      }
    },
    {
      "cell_type": "code",
      "source": [
        "def HelloWorldXY(x, y):\n",
        "  if (x < 10):\n",
        "    print(\"Hello World, x was < 10\")\n",
        "  elif (x < 20):\n",
        "    print(\"Hello World, x was >= 10 but < 20\")\n",
        "  else:\n",
        "    print(\"Hello World, x was >= 20\")\n",
        "  return x + y"
      ],
      "metadata": {
        "id": "GXwrVq9FVBWz"
      },
      "execution_count": null,
      "outputs": []
    },
    {
      "cell_type": "markdown",
      "source": [
        "### Iteration"
      ],
      "metadata": {
        "id": "D09nRJD6WD3-"
      }
    },
    {
      "cell_type": "code",
      "source": [
        "print(HelloWorldXY(1,2))"
      ],
      "metadata": {
        "colab": {
          "base_uri": "https://localhost:8080/"
        },
        "id": "yU3bYM_yVq0D",
        "outputId": "7ee8a649-01a6-4995-badc-466754a5569f"
      },
      "execution_count": null,
      "outputs": [
        {
          "output_type": "stream",
          "name": "stdout",
          "text": [
            "Hello World, x was < 10\n",
            "3\n"
          ]
        }
      ]
    },
    {
      "cell_type": "code",
      "source": [
        "for i in range(8, 25, 5): # i=8, 13, 18, 23 (start, stop, step)\n",
        "  print(\"--- Now running with i: {}\".format(i))\n",
        "  r = HelloWorldXY(i,i)\n",
        "  print(\"Result from HelloWorld: {}\".format(r))"
      ],
      "metadata": {
        "colab": {
          "base_uri": "https://localhost:8080/"
        },
        "id": "8-yS_QIyWOsn",
        "outputId": "1511a3c9-4180-4427-e096-38fe7194e505"
      },
      "execution_count": null,
      "outputs": [
        {
          "output_type": "stream",
          "name": "stdout",
          "text": [
            "--- Now running with i: 8\n",
            "Hello World, x was < 10\n",
            "Result from HelloWorld: 16\n",
            "--- Now running with i: 13\n",
            "Hello World, x was >= 10 but < 20\n",
            "Result from HelloWorld: 26\n",
            "--- Now running with i: 18\n",
            "Hello World, x was >= 10 but < 20\n",
            "Result from HelloWorld: 36\n",
            "--- Now running with i: 23\n",
            "Hello World, x was >= 20\n",
            "Result from HelloWorld: 46\n"
          ]
        }
      ]
    },
    {
      "cell_type": "markdown",
      "source": [
        "## Various kinds of loops starting at 0 to 2"
      ],
      "metadata": {
        "id": "_djARANUcIf6"
      }
    },
    {
      "cell_type": "code",
      "source": [
        "print(\"Iterate over the items. `range(2)` is like a list [0,1].\")\n",
        "for i in range(2):\n",
        "  print(i)"
      ],
      "metadata": {
        "colab": {
          "base_uri": "https://localhost:8080/"
        },
        "id": "4nFsl-qcclHR",
        "outputId": "13aefc41-d613-441f-d190-9e2009f0524e"
      },
      "execution_count": null,
      "outputs": [
        {
          "output_type": "stream",
          "name": "stdout",
          "text": [
            "Iterate over the items. `range(2)` is like a list [0,1].\n",
            "0\n",
            "1\n"
          ]
        }
      ]
    },
    {
      "cell_type": "code",
      "source": [
        "print(\"Iterate over an actual list.\")\n",
        "for i in [0,1]:\n",
        "  print(i)"
      ],
      "metadata": {
        "colab": {
          "base_uri": "https://localhost:8080/"
        },
        "id": "pVqZTyvWcp57",
        "outputId": "69a1ce60-6c12-4eb3-9912-000b826bb784"
      },
      "execution_count": null,
      "outputs": [
        {
          "output_type": "stream",
          "name": "stdout",
          "text": [
            "Iterate over an actual list.\n",
            "0\n",
            "1\n"
          ]
        }
      ]
    },
    {
      "cell_type": "code",
      "source": [
        "print(\"While works\")\n",
        "i = 0\n",
        "while i < 2:\n",
        "  print(i)\n",
        "  i += 1"
      ],
      "metadata": {
        "colab": {
          "base_uri": "https://localhost:8080/"
        },
        "id": "IFoqEJCddAmq",
        "outputId": "49586a93-1eca-464e-c18d-f7976f272015"
      },
      "execution_count": null,
      "outputs": [
        {
          "output_type": "stream",
          "name": "stdout",
          "text": [
            "While works\n",
            "0\n",
            "1\n"
          ]
        }
      ]
    },
    {
      "cell_type": "markdown",
      "source": [
        "## Numpy and lists"
      ],
      "metadata": {
        "id": "1QmusdeHdoJl"
      }
    },
    {
      "cell_type": "code",
      "source": [
        "sea_creatures = ['shark', 'cuttlefish', 'squid', 'mantis shrimp', 'anemone']"
      ],
      "metadata": {
        "id": "gGBhBthpdwl1"
      },
      "execution_count": null,
      "outputs": []
    },
    {
      "cell_type": "code",
      "source": [
        "sea_creatures[0] = 'shark'\n",
        "sea_creatures[2] = 'squid'\n",
        "sea_creatures[4] = 'anemone'"
      ],
      "metadata": {
        "id": "4J6vWC35dyDF"
      },
      "execution_count": null,
      "outputs": []
    },
    {
      "cell_type": "code",
      "source": [
        "import numpy as np # Make numpy available using np.\n",
        "# Create a numpy array, and append an element\n",
        "a = np.array([\"Hello\", \"World\"])\n",
        "a = np.append(a, \"!\")\n",
        "print(\"Current array: {}\".format(a))\n",
        "print(\"Printing each element\")\n",
        "for i in a:\n",
        "  print(i)\n",
        "\n",
        "print(\"\\nPrinting each element and their index\")\n",
        "for i,e in enumerate(a):\n",
        "  print(\"Index: {}, was: {}\".format(i, e))"
      ],
      "metadata": {
        "colab": {
          "base_uri": "https://localhost:8080/"
        },
        "id": "KeFV_gtJd3mP",
        "outputId": "698a5664-9117-4ff0-ff64-a678504fbd4a"
      },
      "execution_count": null,
      "outputs": [
        {
          "output_type": "stream",
          "name": "stdout",
          "text": [
            "Current array: ['Hello' 'World' '!']\n",
            "Printing each element\n",
            "Hello\n",
            "World\n",
            "!\n",
            "\n",
            "Printing each element and their index\n",
            "Index: 0, was: Hello\n",
            "Index: 1, was: World\n",
            "Index: 2, was: !\n"
          ]
        }
      ]
    },
    {
      "cell_type": "code",
      "source": [
        "print(\"\\nShowing some basic math on arrays\")\n",
        "b = np.array([0,1,4,3,2])\n",
        "print(\"Max: {}\".format(np.max(b)))\n",
        "print(\"Average: {}\".format(np.average(b)))\n",
        "print(\"Max index: {}\".format(np.argmax(b)))"
      ],
      "metadata": {
        "colab": {
          "base_uri": "https://localhost:8080/"
        },
        "id": "Ny7-aqJMey0S",
        "outputId": "d36bf1e3-dc3b-474d-88d0-728177b0e7d4"
      },
      "execution_count": null,
      "outputs": [
        {
          "output_type": "stream",
          "name": "stdout",
          "text": [
            "\n",
            "Showing some basic math on arrays\n",
            "Max: 4\n",
            "Average: 2.0\n",
            "Max index: 2\n"
          ]
        }
      ]
    },
    {
      "cell_type": "code",
      "source": [
        "print(\"\\nYou can print the type of anything\")\n",
        "print(\"Type of b: {}, type of b[0]: {}\".format(type(b), type(b[0])))"
      ],
      "metadata": {
        "colab": {
          "base_uri": "https://localhost:8080/"
        },
        "id": "UTi8DlpIfAqS",
        "outputId": "51ae9a01-09f4-4dae-e148-f57900c70e8a"
      },
      "execution_count": null,
      "outputs": [
        {
          "output_type": "stream",
          "name": "stdout",
          "text": [
            "\n",
            "You can print the type of anything\n",
            "Type of b: <class 'numpy.ndarray'>, type of b[0]: <class 'numpy.int64'>\n"
          ]
        }
      ]
    },
    {
      "cell_type": "code",
      "source": [
        "print(\"\\nUse numpy to create a [3,3] dimension array with random number\")\n",
        "c = np.random.rand(3, 3)\n",
        "print(c)"
      ],
      "metadata": {
        "colab": {
          "base_uri": "https://localhost:8080/"
        },
        "id": "-lsxf6ylfO8Z",
        "outputId": "33512437-40f9-4205-f63d-52c8d173f224"
      },
      "execution_count": null,
      "outputs": [
        {
          "output_type": "stream",
          "name": "stdout",
          "text": [
            "\n",
            "Use numpy to create a [3,3] dimension array with random number\n",
            "[[0.51602537 0.93633282 0.0181855 ]\n",
            " [0.12273011 0.52174709 0.11828943]\n",
            " [0.68677095 0.1156132  0.0796102 ]]\n"
          ]
        }
      ]
    },
    {
      "cell_type": "code",
      "source": [
        "print(\"\\nShowing some basic math on arrays\")\n",
        "b = np.array([0,1,4,3,2])\n",
        "print(\"Max: {}\".format(np.max(b)))\n",
        "print(\"Average: {}\".format(np.average(b)))\n",
        "print(\"Max index: {}\".format(np.argmax(b)))"
      ],
      "metadata": {
        "colab": {
          "base_uri": "https://localhost:8080/"
        },
        "id": "aKArPrjgfwTX",
        "outputId": "97aa2328-e52a-45b2-b483-d30a137cd710"
      },
      "execution_count": null,
      "outputs": [
        {
          "output_type": "stream",
          "name": "stdout",
          "text": [
            "\n",
            "Showing some basic math on arrays\n",
            "Max: 4\n",
            "Average: 2.0\n",
            "Max index: 2\n"
          ]
        }
      ]
    },
    {
      "cell_type": "code",
      "source": [
        "print(\"\\nYou can print the dimensions of arrays\")\n",
        "print(\"Shape of a: {}\".format(a.shape))\n",
        "print(\"Shape of b: {}\".format(b.shape))\n",
        "print(\"Shape of c: {}\".format(c.shape))"
      ],
      "metadata": {
        "colab": {
          "base_uri": "https://localhost:8080/"
        },
        "id": "Xo3biNOSf_GS",
        "outputId": "ae8b789e-3def-4633-d008-6f127618c449"
      },
      "execution_count": null,
      "outputs": [
        {
          "output_type": "stream",
          "name": "stdout",
          "text": [
            "\n",
            "You can print the dimensions of arrays\n",
            "Shape of a: (3,)\n",
            "Shape of b: (5,)\n",
            "Shape of c: (3, 3)\n"
          ]
        }
      ]
    },
    {
      "cell_type": "markdown",
      "source": [
        "## Colab Specifics: to run commands at the VM’s terminal"
      ],
      "metadata": {
        "id": "IQ_m_rOOghbY"
      }
    },
    {
      "cell_type": "code",
      "source": [
        "print(\"\\nDoing $ls on filesystem\")\n",
        "!ls -l\n",
        "!pwd"
      ],
      "metadata": {
        "colab": {
          "base_uri": "https://localhost:8080/"
        },
        "id": "HHu21oJQhBIG",
        "outputId": "169f1a57-8ada-4bde-8e87-85d0b1bb57c5"
      },
      "execution_count": null,
      "outputs": [
        {
          "output_type": "stream",
          "name": "stdout",
          "text": [
            "\n",
            "Doing $ls on filesystem\n",
            "total 4\n",
            "drwxr-xr-x 1 root root 4096 Jul 28 13:40 sample_data\n",
            "/content\n"
          ]
        }
      ]
    },
    {
      "cell_type": "code",
      "source": [
        "print(\"Install numpy\") # Just for test, numpy is actually preinstalled in all Colab instancs\n",
        "!pip install numpy"
      ],
      "metadata": {
        "colab": {
          "base_uri": "https://localhost:8080/"
        },
        "id": "Ezo1yKxhhLhG",
        "outputId": "864f2170-0cc7-4b2e-c86b-6f162447eb0e"
      },
      "execution_count": null,
      "outputs": [
        {
          "output_type": "stream",
          "name": "stdout",
          "text": [
            "Install numpy\n",
            "Looking in indexes: https://pypi.org/simple, https://us-python.pkg.dev/colab-wheels/public/simple/\n",
            "Requirement already satisfied: numpy in /usr/local/lib/python3.7/dist-packages (1.21.6)\n"
          ]
        }
      ]
    },
    {
      "cell_type": "markdown",
      "source": [
        "# Exercise"
      ],
      "metadata": {
        "id": "HL1XyhGtoVQq"
      }
    },
    {
      "cell_type": "markdown",
      "source": [
        "## Ex_01_Colab"
      ],
      "metadata": {
        "id": "GYb9PAltolsw"
      }
    },
    {
      "cell_type": "code",
      "source": [
        "!pwd\n",
        "!ls -l"
      ],
      "metadata": {
        "colab": {
          "base_uri": "https://localhost:8080/"
        },
        "id": "DxUMCgDvo2Q0",
        "outputId": "df82e5ab-888b-417a-bb2c-3352587fcc72"
      },
      "execution_count": null,
      "outputs": [
        {
          "output_type": "stream",
          "name": "stdout",
          "text": [
            "/content\n",
            "total 4\n",
            "drwxr-xr-x 1 root root 4096 Jul 28 13:40 sample_data\n"
          ]
        }
      ]
    },
    {
      "cell_type": "markdown",
      "source": [
        "## Ex_02_Print the second item in the fruits list"
      ],
      "metadata": {
        "id": "2FVpFsdmprLH"
      }
    },
    {
      "cell_type": "code",
      "source": [
        "fruits = [\"apple\", \"banana\", \"cherry\"]\n",
        "\n",
        "print(fruits[1])"
      ],
      "metadata": {
        "colab": {
          "base_uri": "https://localhost:8080/"
        },
        "id": "P5y60a9DqZc5",
        "outputId": "eea74a43-d139-4410-c23b-49b8d32078c0"
      },
      "execution_count": null,
      "outputs": [
        {
          "output_type": "stream",
          "name": "stdout",
          "text": [
            "banana\n"
          ]
        }
      ]
    },
    {
      "cell_type": "markdown",
      "source": [
        "## Ex_03_Change the value from “apple” to “kiwi”, in the fruits list"
      ],
      "metadata": {
        "id": "ncpVqPCWsJxu"
      }
    },
    {
      "cell_type": "code",
      "source": [
        "fruits[0] = 'kiwi'\n",
        "\n",
        "print(fruits)"
      ],
      "metadata": {
        "colab": {
          "base_uri": "https://localhost:8080/"
        },
        "id": "EN48IjtvsTSr",
        "outputId": "a16dfd90-0e5e-4919-fdf4-fc8e404ccfe7"
      },
      "execution_count": null,
      "outputs": [
        {
          "output_type": "stream",
          "name": "stdout",
          "text": [
            "['kiwi', 'banana', 'cherry']\n"
          ]
        }
      ]
    },
    {
      "cell_type": "markdown",
      "source": [
        "## Ex_04_Use the append method to add “orange” to the fruits list"
      ],
      "metadata": {
        "id": "xc9NyQyMsrck"
      }
    },
    {
      "cell_type": "code",
      "source": [
        "fruits.append(\"orange\")\n",
        "\n",
        "print(fruits)"
      ],
      "metadata": {
        "colab": {
          "base_uri": "https://localhost:8080/"
        },
        "id": "S9OAd27HtTCN",
        "outputId": "4da23b43-bba4-4177-b1f6-bc8a77c644f5"
      },
      "execution_count": null,
      "outputs": [
        {
          "output_type": "stream",
          "name": "stdout",
          "text": [
            "['kiwi', 'banana', 'cherry', 'orange']\n"
          ]
        }
      ]
    },
    {
      "cell_type": "markdown",
      "source": [
        "## Ex_05_Use the insert method to add “lemon” as the second item in the fruits list"
      ],
      "metadata": {
        "id": "H7ZgF2txuAD8"
      }
    },
    {
      "cell_type": "code",
      "source": [
        "fruits.insert(1, \"lemon\")\n",
        "\n",
        "print(fruits)"
      ],
      "metadata": {
        "colab": {
          "base_uri": "https://localhost:8080/"
        },
        "id": "JnSKMdh0uIkJ",
        "outputId": "a410df8a-4f5d-4180-bdf5-9c455bc5816f"
      },
      "execution_count": null,
      "outputs": [
        {
          "output_type": "stream",
          "name": "stdout",
          "text": [
            "['kiwi', 'lemon', 'banana', 'cherry', 'orange']\n"
          ]
        }
      ]
    },
    {
      "cell_type": "markdown",
      "source": [
        "## Ex_06_Use the remove method to delete “banana” from the fruits list"
      ],
      "metadata": {
        "id": "vh3Iu1MUvZ2B"
      }
    },
    {
      "cell_type": "code",
      "source": [
        "fruits.remove(\"banana\")\n",
        "\n",
        "print(fruits)"
      ],
      "metadata": {
        "colab": {
          "base_uri": "https://localhost:8080/"
        },
        "id": "Ugrw09YovfB7",
        "outputId": "0395f7c6-da94-4ee2-a5f4-6faf5a19fc3f"
      },
      "execution_count": null,
      "outputs": [
        {
          "output_type": "stream",
          "name": "stdout",
          "text": [
            "['kiwi', 'lemon', 'cherry', 'orange']\n"
          ]
        }
      ]
    },
    {
      "cell_type": "markdown",
      "source": [
        "## Ex_07_Print “Hello World” if a is greater than b"
      ],
      "metadata": {
        "id": "7Jy4ispvwWjt"
      }
    },
    {
      "cell_type": "code",
      "source": [
        "a=50\n",
        "b=10\n",
        "c=20\n",
        "d=20\n",
        "\n",
        "if a > b:\n",
        "    print(\"Hello World\")"
      ],
      "metadata": {
        "colab": {
          "base_uri": "https://localhost:8080/"
        },
        "id": "aAGugqAOwgof",
        "outputId": "e91fc130-dcd2-4089-b8a7-628a5ade9125"
      },
      "execution_count": null,
      "outputs": [
        {
          "output_type": "stream",
          "name": "stdout",
          "text": [
            "Hello World\n"
          ]
        }
      ]
    },
    {
      "cell_type": "markdown",
      "source": [
        "## Ex_08_Print “Hello World” if a is not equal to b"
      ],
      "metadata": {
        "id": "Xx8EjYpvx6yU"
      }
    },
    {
      "cell_type": "code",
      "source": [
        "if a != b:\n",
        "    print(\"Hello World\")"
      ],
      "metadata": {
        "colab": {
          "base_uri": "https://localhost:8080/"
        },
        "id": "Mp4TUVWLyGAW",
        "outputId": "cf374510-bee7-451c-a552-ea2617fe9aad"
      },
      "execution_count": null,
      "outputs": [
        {
          "output_type": "stream",
          "name": "stdout",
          "text": [
            "Hello World\n"
          ]
        }
      ]
    },
    {
      "cell_type": "markdown",
      "source": [
        "## Ex_09_Print “Yes” if a is equal to b, otherwise print “No”"
      ],
      "metadata": {
        "id": "NhLRe3rqyZIo"
      }
    },
    {
      "cell_type": "code",
      "source": [
        "if a == b:\n",
        "    print(\"Yes\")\n",
        "else:\n",
        "  print(\"No\")"
      ],
      "metadata": {
        "colab": {
          "base_uri": "https://localhost:8080/"
        },
        "id": "Kz-g2R7Vygkn",
        "outputId": "57d66022-e498-49a7-c40d-f4f9abc46f03"
      },
      "execution_count": null,
      "outputs": [
        {
          "output_type": "stream",
          "name": "stdout",
          "text": [
            "No\n"
          ]
        }
      ]
    },
    {
      "cell_type": "markdown",
      "source": [
        "## Ex_10_Print “1” if a is equal to b, print “2” if a is greater than b, otherwise print “3”"
      ],
      "metadata": {
        "id": "2O9xNHKe0eLy"
      }
    },
    {
      "cell_type": "code",
      "source": [
        "if a == b:\n",
        "  print(\"1\")\n",
        "elif a > b:\n",
        "  print(\"2\")\n",
        "else:\n",
        "  print(\"3\")"
      ],
      "metadata": {
        "colab": {
          "base_uri": "https://localhost:8080/"
        },
        "id": "S458j8lT0kUj",
        "outputId": "7648c50e-27ad-4b07-8b88-afe94cd38ea6"
      },
      "execution_count": null,
      "outputs": [
        {
          "output_type": "stream",
          "name": "stdout",
          "text": [
            "2\n"
          ]
        }
      ]
    },
    {
      "cell_type": "markdown",
      "source": [
        "## Ex_11_Print “Hello” if a is equal to b, and c is equal to d"
      ],
      "metadata": {
        "id": "8hDJs-d61pvq"
      }
    },
    {
      "cell_type": "code",
      "source": [
        "if a == b and c == d:\n",
        "  print(\"Hello\")"
      ],
      "metadata": {
        "id": "tc8ab_pR1y6S"
      },
      "execution_count": null,
      "outputs": []
    },
    {
      "cell_type": "markdown",
      "source": [
        "## Ex_12_Print “Hello” if either a is equal to b, or c is equal to d"
      ],
      "metadata": {
        "id": "jZ1skl-l2sUY"
      }
    },
    {
      "cell_type": "code",
      "source": [
        "if a == b or c == d:\n",
        "  print(\"Hello\")"
      ],
      "metadata": {
        "colab": {
          "base_uri": "https://localhost:8080/"
        },
        "id": "6I9n89OW2yRd",
        "outputId": "4a1a933e-1173-40ec-b82b-182e5f2a20a6"
      },
      "execution_count": null,
      "outputs": [
        {
          "output_type": "stream",
          "name": "stdout",
          "text": [
            "Hello\n"
          ]
        }
      ]
    },
    {
      "cell_type": "markdown",
      "source": [
        "## Ex_13_Print i as long as i is less than 6"
      ],
      "metadata": {
        "id": "MyeFI6YC3iXL"
      }
    },
    {
      "cell_type": "code",
      "source": [
        "i = 0\n",
        "while i < 6:\n",
        "  print(i)\n",
        "  i += 1"
      ],
      "metadata": {
        "colab": {
          "base_uri": "https://localhost:8080/"
        },
        "id": "F9SSI4J33onu",
        "outputId": "658606b8-17a8-46b4-c67c-bd4bfaa078d5"
      },
      "execution_count": null,
      "outputs": [
        {
          "output_type": "stream",
          "name": "stdout",
          "text": [
            "0\n",
            "1\n",
            "2\n",
            "3\n",
            "4\n",
            "5\n"
          ]
        }
      ]
    },
    {
      "cell_type": "markdown",
      "source": [
        "## Ex_14_stop the loop if i is 3"
      ],
      "metadata": {
        "id": "8roFaRRh4OvY"
      }
    },
    {
      "cell_type": "code",
      "source": [
        "i = 0\n",
        "while i < 6:\n",
        "  if i == 3:\n",
        "        break\n",
        "  print(i)\n",
        "  i += 1\n"
      ],
      "metadata": {
        "colab": {
          "base_uri": "https://localhost:8080/"
        },
        "id": "0w6rUYtG4V3B",
        "outputId": "59e34256-4fc6-46e5-a685-38fa93e76b1a"
      },
      "execution_count": null,
      "outputs": [
        {
          "output_type": "stream",
          "name": "stdout",
          "text": [
            "0\n",
            "1\n",
            "2\n"
          ]
        }
      ]
    }
  ]
}